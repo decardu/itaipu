{
  "nbformat": 4,
  "nbformat_minor": 0,
  "metadata": {
    "colab": {
      "name": "scrapimoveis.ipynb",
      "provenance": [],
      "authorship_tag": "ABX9TyOXehjT98D7Uf4io+YgQnrL",
      "include_colab_link": true
    },
    "kernelspec": {
      "name": "python3",
      "display_name": "Python 3"
    },
    "language_info": {
      "name": "python"
    }
  },
  "cells": [
    {
      "cell_type": "markdown",
      "metadata": {
        "id": "view-in-github",
        "colab_type": "text"
      },
      "source": [
        "<a href=\"https://colab.research.google.com/github/decardu/itaipu/blob/main/scrapimoveis.ipynb\" target=\"_parent\"><img src=\"https://colab.research.google.com/assets/colab-badge.svg\" alt=\"Open In Colab\"/></a>"
      ]
    },
    {
      "cell_type": "code",
      "metadata": {
        "id": "v1lvqpq46c-c"
      },
      "source": [
        "import requests\n",
        "from bs4 import BeautifulSoup\n",
        "import pandas as pd"
      ],
      "execution_count": null,
      "outputs": []
    },
    {
      "cell_type": "code",
      "metadata": {
        "id": "AsPfYkG0GI0O"
      },
      "source": [
        "lista_anuncios = []"
      ],
      "execution_count": null,
      "outputs": []
    },
    {
      "cell_type": "code",
      "metadata": {
        "id": "RM6AUIo66y-1"
      },
      "source": [
        "# url = requests.get('https://brasilbrokers.com.br/prontos/itaipu-niteroi#-22.9561305,-43.0291246,15')"
      ],
      "execution_count": null,
      "outputs": []
    },
    {
      "cell_type": "code",
      "metadata": {
        "id": "4AlbdQv9v7xv"
      },
      "source": [
        "url = requests.get('https://brasilbrokers.com.br/prontos/itaipu-niteroi#-22.9561305,-43.0291246,15')"
      ],
      "execution_count": null,
      "outputs": []
    },
    {
      "cell_type": "code",
      "metadata": {
        "id": "20QwLP-R68p5"
      },
      "source": [
        "content = url.content"
      ],
      "execution_count": null,
      "outputs": []
    },
    {
      "cell_type": "code",
      "metadata": {
        "id": "Rfdhdxox7Ars"
      },
      "source": [
        "site = BeautifulSoup(content, 'html.parser')"
      ],
      "execution_count": null,
      "outputs": []
    },
    {
      "cell_type": "code",
      "metadata": {
        "id": "ag753cc37F1N",
        "colab": {
          "base_uri": "https://localhost:8080/"
        },
        "outputId": "c77b09f9-c5e6-40e0-9b91-653afe0a0833"
      },
      "source": [
        "anuncios = site.findAll('div', attrs={'class': 'resultItem row'})\n",
        "for anuncio in anuncios:\n",
        "  codigo_imovel = anuncio.find('div', attrs={'class': 'codigoImovel'})\n",
        "  print(codigo_imovel.text)\n",
        "    \n",
        "  preco = anuncio.find('span', attrs={'class': 'valor'})\n",
        "  print(\"preço:\", preco.text)\n",
        "    \n",
        "  area = anuncio.find('li', attrs={'class': 'area tt'})\n",
        "  print(\"área:\", area.text)\n",
        "    \n",
        "  quartos = anuncio.find('li', attrs={'class': 'quarto tt'})\n",
        "  print(\"nº quartos:\", quartos.text)\n",
        "\n",
        "  suites = anuncio.find('li', attrs={'class': 'suite tt'})\n",
        "  if (suites):\n",
        "    print(\"nº suítes:\", suites.text)\n",
        "  else:\n",
        "    print('n.d')\n",
        "     \n",
        "  banheiros = anuncio.find('li', attrs={'class': 'banheiro tt'})\n",
        "  if (banheiros):\n",
        "    print(\"nº banheiros:\", banheiros.text)\n",
        "  else:\n",
        "    print('n.d')\n",
        "      \n",
        "  vagas = anuncio.find('li', attrs={'class': 'vaga tt'})\n",
        "  if (vagas):\n",
        "    print(\"nº vagas garagem:\", vagas.text)\n",
        "  else:\n",
        "    print('n.d')\n",
        "    \n",
        "  \n",
        "  lista_anuncios.append([codigo_imovel.text, preco.text, area.text, quartos.text])\n",
        "  \n",
        "tabela_anuncios = pd.DataFrame(lista_anuncios, columns=['Imovel', 'Preço', 'Área m2', 'Nº Quartos'])\n",
        "\n",
        "tabela_anuncios.to_csv('anuncios_imoveis.csv', index=False)\n",
        "\n",
        "print(tabela_anuncios)"
      ],
      "execution_count": null,
      "outputs": [
        {
          "output_type": "stream",
          "name": "stdout",
          "text": [
            "Empty DataFrame\n",
            "Columns: [Imovel, Preço, Área m2, Nº Quartos]\n",
            "Index: []\n"
          ]
        }
      ]
    }
  ]
}